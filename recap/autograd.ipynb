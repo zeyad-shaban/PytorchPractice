{
 "cells": [
  {
   "cell_type": "code",
   "execution_count": 1,
   "metadata": {},
   "outputs": [],
   "source": [
    "import torch\n",
    "import numpy as np\n",
    "import matplotlib.pyplot as plt\n",
    "import pandas as pd\n",
    "import torch.optim as optim"
   ]
  },
  {
   "cell_type": "code",
   "execution_count": 20,
   "metadata": {},
   "outputs": [],
   "source": [
    "def model(x: torch.Tensor, w2: torch.Tensor, w1: torch.Tensor, w: torch.Tensor, b: torch.Tensor) -> torch.Tensor:\n",
    "    return w2 * x**3 + w1 * x ** 2 + w * x + b\n",
    "\n",
    "\n",
    "def loss(y: torch.Tensor, yp: torch.Tensor) -> torch.Tensor:\n",
    "    return ((y - yp)**2).mean()"
   ]
  },
  {
   "cell_type": "code",
   "execution_count": 3,
   "metadata": {},
   "outputs": [],
   "source": [
    "temp_unkown = torch.tensor([35.7000, 55.9000, 58.2000, 81.9000, 56.3000, 48.9000, 33.9000, 21.8000, 48.400, 60.4000, 68.4000])\n",
    "temp_celcius = torch.tensor([0.5000, 14.0000, 15.0000, 28.0000, 11.0000,  8.0000,  3.0000, -4.0000, 6.0000, 13.0000, 21.0000])"
   ]
  },
  {
   "cell_type": "code",
   "execution_count": 4,
   "metadata": {},
   "outputs": [
    {
     "name": "stdout",
     "output_type": "stream",
     "text": [
      "tensor(675.7943, grad_fn=<MeanBackward0>)\n",
      "tensor(nan, grad_fn=<MeanBackward0>)\n",
      "tensor(nan, grad_fn=<MeanBackward0>)\n",
      "tensor(nan, grad_fn=<MeanBackward0>)\n",
      "tensor(nan, grad_fn=<MeanBackward0>)\n",
      "tensor(nan, grad_fn=<MeanBackward0>)\n",
      "tensor(nan, grad_fn=<MeanBackward0>)\n",
      "tensor(nan, grad_fn=<MeanBackward0>)\n",
      "tensor(nan, grad_fn=<MeanBackward0>)\n",
      "tensor(nan, grad_fn=<MeanBackward0>)\n"
     ]
    },
    {
     "data": {
      "text/plain": [
       "tensor([nan, nan, nan], requires_grad=True)"
      ]
     },
     "execution_count": 4,
     "metadata": {},
     "output_type": "execute_result"
    }
   ],
   "source": [
    "params = torch.tensor([1, 1, 0], dtype=torch.float32, requires_grad=True)\n",
    "epochs = 1000\n",
    "alpha = 1e-2\n",
    "temp_unkown = temp_unkown / 10\n",
    "\n",
    "for i in range(epochs):\n",
    "    temp_predicted = model(temp_unkown, *params)\n",
    "    lossResult = loss(temp_celcius, temp_predicted)\n",
    "\n",
    "    lossResult.backward()\n",
    "\n",
    "    with torch.no_grad():\n",
    "        if params.grad is not None: params -= params.grad * alpha\n",
    "\n",
    "    if params.grad is not None:\n",
    "        params.grad.zero_()\n",
    "\n",
    "    if i % 100 == 0:\n",
    "        print(lossResult)\n",
    "\n",
    "\n",
    "params"
   ]
  },
  {
   "cell_type": "code",
   "execution_count": 5,
   "metadata": {},
   "outputs": [
    {
     "name": "stdout",
     "output_type": "stream",
     "text": [
      "tensor(11709471., grad_fn=<MeanBackward0>)\n",
      "tensor(4.8415, grad_fn=<MeanBackward0>)\n",
      "tensor(3.7844, grad_fn=<MeanBackward0>)\n",
      "tensor(3.4664, grad_fn=<MeanBackward0>)\n"
     ]
    },
    {
     "data": {
      "text/plain": [
       "tensor([ 0.0060, -0.1081, -1.4510], requires_grad=True)"
      ]
     },
     "execution_count": 5,
     "metadata": {},
     "output_type": "execute_result"
    }
   ],
   "source": [
    "epochs = 2000\n",
    "params = torch.tensor([1., 1.,0.], requires_grad=True)\n",
    "lr = 1e-1\n",
    "\n",
    "optimizer = optim.Adam([params], lr)\n",
    "\n",
    "for i in range(epochs):\n",
    "    temp_predicted = model(temp_unkown, *params)\n",
    "    train_loss = loss(temp_celcius, temp_predicted)\n",
    "    train_loss.backward()\n",
    "\n",
    "    optimizer.step()\n",
    "    optimizer.zero_grad()\n",
    "\n",
    "    if i % 500 == 0:\n",
    "        print(train_loss)\n",
    "\n",
    "params"
   ]
  },
  {
   "cell_type": "code",
   "execution_count": 7,
   "metadata": {},
   "outputs": [],
   "source": [
    "threshold = int(0.8 * temp_unkown.shape[0])\n",
    "\n",
    "rand_indices= torch.randperm(temp_unkown.shape[0])\n",
    "\n",
    "train_unkown = temp_unkown[rand_indices[:threshold]]\n",
    "train_celcius = temp_celcius[rand_indices[:threshold]]\n",
    "\n",
    "test_unkown = temp_unkown[rand_indices[threshold:]]\n",
    "test_celcius = temp_celcius[rand_indices[threshold:]]"
   ]
  },
  {
   "cell_type": "code",
   "execution_count": 30,
   "metadata": {},
   "outputs": [
    {
     "name": "stdout",
     "output_type": "stream",
     "text": [
      "Epoch 0, Training loss 240.5000, Validation loss 31.5759\n",
      "Epoch 500, Training loss 2.8680, Validation loss 15.5116\n",
      "Epoch 1000, Training loss 2.8493, Validation loss 15.7602\n",
      "Epoch 1500, Training loss 2.8316, Validation loss 15.5868\n",
      "Epoch 2000, Training loss 3.2424, Validation loss 17.0271\n",
      "Epoch 2500, Training loss 2.7958, Validation loss 15.2356\n",
      "Epoch 3000, Training loss 3.5935, Validation loss 15.4254\n",
      "Epoch 3500, Training loss 2.7612, Validation loss 14.8908\n",
      "Epoch 4000, Training loss 2.7449, Validation loss 14.7076\n",
      "Epoch 4500, Training loss 2.7281, Validation loss 14.5572\n"
     ]
    },
    {
     "data": {
      "text/plain": [
       "tensor([ 1.3563e-05,  3.4877e-03, -2.0651e-02, -8.2586e-02],\n",
       "       requires_grad=True)"
      ]
     },
     "execution_count": 30,
     "metadata": {},
     "output_type": "execute_result"
    }
   ],
   "source": [
    "epochs = 5000\n",
    "params = torch.tensor([0., 0., 0., 0.], requires_grad=True)\n",
    "lr = 1e-4\n",
    "\n",
    "optimizer = optim.Adam([params], lr)\n",
    "\n",
    "\n",
    "for epoch in range(epochs):\n",
    "    temp_predict = model(train_unkown, *params)\n",
    "    train_loss = loss(train_celcius, temp_predict)\n",
    "\n",
    "    train_loss.backward()\n",
    "    optimizer.step()\n",
    "\n",
    "    with torch.no_grad():\n",
    "        test_predict = model(test_unkown, *params)\n",
    "        test_loss = loss(test_celcius, test_predict)\n",
    "\n",
    "    optimizer.zero_grad()\n",
    "\n",
    "    if epoch % 500 == 0:\n",
    "        print(f\"Epoch {epoch}, Training loss {train_loss.item():.4f},\" f\" Validation loss {test_loss.item():.4f}\")\n",
    "\n",
    "params"
   ]
  },
  {
   "cell_type": "code",
   "execution_count": 31,
   "metadata": {},
   "outputs": [
    {
     "data": {
      "text/plain": [
       "[<matplotlib.lines.Line2D at 0x2139ffff170>]"
      ]
     },
     "execution_count": 31,
     "metadata": {},
     "output_type": "execute_result"
    },
    {
     "data": {
      "image/png": "[encoded data removed]",
      "text/plain": [
       "<Figure size 960x720 with 1 Axes>"
      ]
     },
     "metadata": {},
     "output_type": "display_data"
    }
   ],
   "source": [
    "fig = plt.figure(dpi=150)\n",
    "\n",
    "yp = model(temp_unkown, *params)\n",
    "plt.plot(temp_unkown, temp_celcius, 'o')\n",
    "plt.plot(temp_unkown, yp.detach(), '-')"
   ]
  },
  {
   "cell_type": "code",
   "execution_count": null,
   "metadata": {},
   "outputs": [],
   "source": []
  }
 ],
 "metadata": {
  "kernelspec": {
   "display_name": "Python 3",
   "language": "python",
   "name": "python3"
  },
  "language_info": {
   "codemirror_mode": {
    "name": "ipython",
    "version": 3
   },
   "file_extension": ".py",
   "mimetype": "text/x-python",
   "name": "python",
   "nbconvert_exporter": "python",
   "pygments_lexer": "ipython3",
   "version": "3.12.5"
  }
 },
 "nbformat": 4,
 "nbformat_minor": 2
}
