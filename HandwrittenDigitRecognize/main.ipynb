{
 "cells": [
  {
   "cell_type": "code",
   "execution_count": 4,
   "metadata": {},
   "outputs": [],
   "source": [
    "import torch\n",
    "import torch.nn as nn\n",
    "from torchvision import datasets, transforms\n",
    "import torchvision\n",
    "from torch.utils.data import DataLoader\n",
    "import torch.optim as optim\n",
    "import matplotlib.pyplot as plt"
   ]
  },
  {
   "cell_type": "code",
   "execution_count": 5,
   "metadata": {},
   "outputs": [],
   "source": [
    "dataset = datasets.MNIST(\"./data\", train=True, download=True, transform=transforms.ToTensor())"
   ]
  },
  {
   "cell_type": "code",
   "execution_count": 6,
   "metadata": {},
   "outputs": [],
   "source": [
    "# compute mean and standard deviation\n",
    "\n",
    "# torch.mean(dataset[])\n",
    "mean = dataset.data.float().mean() / 255\n",
    "std = dataset.data.float().std() / 255\n",
    "\n",
    "dataset = torchvision.datasets.MNIST(\"./data\", train=True, download=True, transform=transforms.Compose([\n",
    "    transforms.ToTensor(),\n",
    "    transforms.Normalize(mean, std)\n",
    "]))"
   ]
  },
  {
   "cell_type": "code",
   "execution_count": 7,
   "metadata": {},
   "outputs": [],
   "source": [
    "train_loader = DataLoader(dataset, batch_size=64, shuffle=True)"
   ]
  },
  {
   "cell_type": "code",
   "execution_count": 8,
   "metadata": {},
   "outputs": [],
   "source": [
    "input_size = dataset[0][0].numel()\n",
    "model = nn.Sequential(\n",
    "    nn.Linear(input_size, 1024),\n",
    "    nn.Sigmoid(),\n",
    "    nn.Linear(1024, 512),\n",
    "    nn.Tanh(),\n",
    "    nn.Linear(512, 128),\n",
    "    nn.LeakyReLU(), # hmm is using ReLU even good in this case as it acts exactly like a linear model but without the negative x sidee\n",
    "    nn.Linear(128, 10),\n",
    ")"
   ]
  },
  {
   "cell_type": "code",
   "execution_count": 9,
   "metadata": {},
   "outputs": [
    {
     "name": "stdout",
     "output_type": "stream",
     "text": [
      "tensor(0.0535, grad_fn=<NllLossBackward0>)\n",
      "tensor(0.1706, grad_fn=<NllLossBackward0>)\n",
      "tensor(0.1997, grad_fn=<NllLossBackward0>)\n",
      "tensor(0.0048, grad_fn=<NllLossBackward0>)\n",
      "tensor(0.0140, grad_fn=<NllLossBackward0>)\n",
      "tensor(0.0422, grad_fn=<NllLossBackward0>)\n",
      "tensor(0.1772, grad_fn=<NllLossBackward0>)\n",
      "tensor(0.0871, grad_fn=<NllLossBackward0>)\n",
      "tensor(0.0765, grad_fn=<NllLossBackward0>)\n",
      "tensor(0.0131, grad_fn=<NllLossBackward0>)\n"
     ]
    }
   ],
   "source": [
    "lr = 0.001\n",
    "optimizer = optim.Adam(model.parameters(), lr)\n",
    "lossFn = nn.CrossEntropyLoss()\n",
    "\n",
    "epochs = 10\n",
    "\n",
    "for epoch in range(epochs):\n",
    "    loss = 0\n",
    "    for data_batch, target_batch in train_loader:\n",
    "        predicted = model(data_batch.view(-1, input_size))\n",
    "        loss = lossFn(predicted, target_batch)\n",
    "\n",
    "        optimizer.zero_grad()\n",
    "        loss.backward()\n",
    "        optimizer.step()\n",
    "\n",
    "    print(loss)"
   ]
  },
  {
   "cell_type": "code",
   "execution_count": 25,
   "metadata": {},
   "outputs": [
    {
     "data": {
      "text/plain": [
       "'AI model prediction: 2'"
      ]
     },
     "execution_count": 25,
     "metadata": {},
     "output_type": "execute_result"
    },
    {
     "data": {
      "image/png": "[encoded data removed]",
      "text/plain": [
       "<Figure size 640x480 with 1 Axes>"
      ]
     },
     "metadata": {},
     "output_type": "display_data"
    }
   ],
   "source": [
    "test_dataset = datasets.MNIST(\"./data\", train=False, transform=transforms.Compose([\n",
    "    transforms.ToTensor(),\n",
    "    transforms.Normalize(mean, std)\n",
    "]))\n",
    "\n",
    "idx = 2500\n",
    "\n",
    "plt.imshow(test_dataset.data[idx])\n",
    "f\"AI model prediction: {model(test_dataset.data[idx].float().view(1, -1)).argmax()}\""
   ]
  },
  {
   "cell_type": "code",
   "execution_count": 75,
   "metadata": {},
   "outputs": [
    {
     "data": {
      "text/plain": [
       "tensor(98.1000)"
      ]
     },
     "execution_count": 75,
     "metadata": {},
     "output_type": "execute_result"
    }
   ],
   "source": [
    "correct = 0\n",
    "total = 0\n",
    "test_loader = DataLoader(test_dataset, batch_size=64, shuffle=False)\n",
    "with torch.no_grad():\n",
    "    for data_batch, target_batch in test_loader:\n",
    "        predicted = model(data_batch.view(-1, input_size)).argmax(dim=1)\n",
    "        correct += (predicted == target_batch).sum()\n",
    "        total += predicted.shape[0]\n",
    "\n",
    "(correct / total) * 100"
   ]
  }
 ],
 "metadata": {
  "kernelspec": {
   "display_name": "Python 3",
   "language": "python",
   "name": "python3"
  },
  "language_info": {
   "codemirror_mode": {
    "name": "ipython",
    "version": 3
   },
   "file_extension": ".py",
   "mimetype": "text/x-python",
   "name": "python",
   "nbconvert_exporter": "python",
   "pygments_lexer": "ipython3",
   "version": "3.12.5"
  }
 },
 "nbformat": 4,
 "nbformat_minor": 2
}
