{
 "cells": [
  {
   "cell_type": "code",
   "execution_count": 2,
   "metadata": {},
   "outputs": [],
   "source": [
    "import torch\n",
    "from PIL import Image\n",
    "import matplotlib.pyplot as plt\n",
    "from torchvision import transforms\n",
    "from torch.utils.data import Dataset"
   ]
  },
  {
   "cell_type": "code",
   "execution_count": 4,
   "metadata": {},
   "outputs": [],
   "source": [
    "oneImg = Image.open(\"./data/one.png\")\n",
    "zeroImg = Image.open(\"./data/zero.png\")"
   ]
  },
  {
   "cell_type": "code",
   "execution_count": 36,
   "metadata": {},
   "outputs": [
    {
     "data": {
      "text/plain": [
       "tensor([[[0.0000, 0.0000, 1.0000, 0.0000, 0.0000],\n",
       "         [0.0000, 0.0000, 1.0000, 0.0000, 0.0000],\n",
       "         [0.0000, 0.0000, 1.0000, 0.0000, 0.0000],\n",
       "         [0.0000, 1.0000, 1.0000, 1.0000, 0.0000]],\n",
       "\n",
       "        [[0.0000, 0.0000, 0.9490, 0.0000, 0.0000],\n",
       "         [1.0000, 1.0000, 0.9490, 0.0000, 0.0000],\n",
       "         [0.0000, 0.0000, 0.9490, 0.0000, 0.0000],\n",
       "         [0.0000, 0.0000, 0.0000, 0.0000, 0.0000]],\n",
       "\n",
       "        [[0.0000, 1.0000, 0.0000, 0.0000, 0.0000],\n",
       "         [0.0000, 0.0000, 0.0000, 0.0000, 0.0000],\n",
       "         [0.0000, 0.0000, 0.0000, 0.0000, 0.0000],\n",
       "         [0.0000, 0.0000, 0.0000, 0.0000, 0.0000]]])"
      ]
     },
     "execution_count": 36,
     "metadata": {},
     "output_type": "execute_result"
    }
   ],
   "source": [
    "to_tensor = transforms.ToTensor()\n",
    "\n",
    "one_tensor = to_tensor(oneImg)[:-1]\n",
    "zero_tensor = to_tensor(zeroImg)[:-1]\n",
    "\n",
    "one_tensor"
   ]
  },
  {
   "cell_type": "code",
   "execution_count": 37,
   "metadata": {},
   "outputs": [
    {
     "data": {
      "text/plain": [
       "Text(0.5, 1.0, 'Digit 1')"
      ]
     },
     "execution_count": 37,
     "metadata": {},
     "output_type": "execute_result"
    },
    {
     "data": {
      "image/png": "[encoded data removed]",
      "text/plain": [
       "<Figure size 640x480 with 2 Axes>"
      ]
     },
     "metadata": {},
     "output_type": "display_data"
    }
   ],
   "source": [
    "plt.subplot(1, 2, 1)\n",
    "plt.imshow(zero_tensor.permute(1,2,0))\n",
    "plt.title(\"Digit 0\")\n",
    "\n",
    "plt.subplot(1, 2, 2)\n",
    "plt.imshow(one_tensor.permute(1,2,0))\n",
    "plt.title(\"Digit 1\")"
   ]
  },
  {
   "cell_type": "code",
   "execution_count": 45,
   "metadata": {},
   "outputs": [],
   "source": [
    "class DigitDataSet(Dataset):\n",
    "    def __init__(self, images, labels, transforms=None):\n",
    "        self.images = images\n",
    "        self.labels = labels\n",
    "        self.transforms = transforms\n",
    "\n",
    "    def __len__(self):\n",
    "        return len(self.images)\n",
    "\n",
    "    def __getitem__(self, i):\n",
    "        img = self.images[i]\n",
    "        label = self.labels[i]\n",
    "\n",
    "        if self.transforms:\n",
    "            img = self.transforms(img)\n",
    "\n",
    "        return img, label"
   ]
  },
  {
   "cell_type": "code",
   "execution_count": 46,
   "metadata": {},
   "outputs": [],
   "source": [
    "images = [zeroImg, oneImg]\n",
    "labels = ['0', '1']\n",
    "\n",
    "dataset = DigitDataSet(images, labels, transforms.ToTensor())"
   ]
  },
  {
   "cell_type": "code",
   "execution_count": 89,
   "metadata": {},
   "outputs": [],
   "source": [
    "imgs_t = torch.stack([img[:-1] for img,_ in dataset])\n",
    "\n",
    "red_channel = imgs_t[:,0]\n",
    "green_channel = imgs_t[:,1]\n",
    "blue_channel = imgs_t[:,2]\n",
    "\n",
    "means = torch.tensor([red_channel.mean(), green_channel.mean(), blue_channel.mean()])\n",
    "stds = torch.tensor([red_channel.std(), green_channel.std(), blue_channel.std()])"
   ]
  },
  {
   "cell_type": "code",
   "execution_count": 133,
   "metadata": {},
   "outputs": [
    {
     "data": {
      "text/plain": [
       "tensor([0.4500, 0.3688, 0.2491])"
      ]
     },
     "execution_count": 133,
     "metadata": {},
     "output_type": "execute_result"
    }
   ],
   "source": [
    "imgs_t = torch.stack([img[:-1] for img, _ in dataset], dim=-1)\n",
    "imgs_t.view(3, -1).mean(dim=1)"
   ]
  },
  {
   "cell_type": "code",
   "execution_count": 6,
   "metadata": {},
   "outputs": [
    {
     "data": {
      "text/plain": [
       "tensor(0)"
      ]
     },
     "execution_count": 6,
     "metadata": {},
     "output_type": "execute_result"
    }
   ],
   "source": [
    "a = torch.tensor([\n",
    "    [\n",
    "        [10, 20],\n",
    "        [40, 50],\n",
    "    ],\n",
    "    [\n",
    "        [100, 200],\n",
    "        [400, 500],\n",
    "    ],\n",
    "    [\n",
    "        [1, 2],\n",
    "        [4, 5],\n",
    "    ],\n",
    "])\n",
    "\n",
    "b = torch.tensor([\n",
    "    [\n",
    "        [60, 70],\n",
    "        [80, 90],\n",
    "    ],\n",
    "    [\n",
    "        [600, 700],\n",
    "        [800, 900],\n",
    "    ],\n",
    "    [\n",
    "        [6, 7],\n",
    "        [8, 9],\n",
    "    ],\n",
    "])\n",
    "\n",
    "expected = torch.tensor([\n",
    "    [\n",
    "        [\n",
    "            [10, 60],\n",
    "            [20, 70],\n",
    "        ],\n",
    "        [\n",
    "            [40, 80],\n",
    "            [50, 90],\n",
    "        ],\n",
    "    ],\n",
    "    [\n",
    "        [\n",
    "            [100, 600],\n",
    "            [200, 700],\n",
    "        ],\n",
    "        [\n",
    "            [400, 800],\n",
    "            [500, 900],\n",
    "        ],\n",
    "    ],\n",
    "    [\n",
    "        [\n",
    "            [1, 6],\n",
    "            [2, 7],\n",
    "        ],\n",
    "        [\n",
    "            [4, 8],\n",
    "            [5, 9],\n",
    "        ],\n",
    "    ],\n",
    "])\n",
    "\n",
    "\n",
    "(torch.stack([a, b], dim=-1) != expected).sum()"
   ]
  },
  {
   "cell_type": "code",
   "execution_count": null,
   "metadata": {},
   "outputs": [],
   "source": [
    "a = torch.tensor([\n",
    "    [1,2],\n",
    "    [3,4],\n",
    "    [5,6]\n",
    "])\n",
    "b = torch.tensor([\n",
    "    [10,20],\n",
    "    [30,40],\n",
    "    [50,60]\n",
    "])\n",
    "\n",
    "torch.stack([a,b], dim=2)"
   ]
  },
  {
   "cell_type": "code",
   "execution_count": null,
   "metadata": {},
   "outputs": [],
   "source": []
  }
 ],
 "metadata": {
  "kernelspec": {
   "display_name": "Python 3",
   "language": "python",
   "name": "python3"
  },
  "language_info": {
   "codemirror_mode": {
    "name": "ipython",
    "version": 3
   },
   "file_extension": ".py",
   "mimetype": "text/x-python",
   "name": "python",
   "nbconvert_exporter": "python",
   "pygments_lexer": "ipython3",
   "version": "3.12.5"
  }
 },
 "nbformat": 4,
 "nbformat_minor": 2
}
