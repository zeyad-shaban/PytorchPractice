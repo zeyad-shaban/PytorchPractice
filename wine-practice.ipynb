{
 "cells": [
  {
   "cell_type": "code",
   "execution_count": 33,
   "metadata": {},
   "outputs": [],
   "source": [
    "import torch\n",
    "import torch.optim as optim\n",
    "import torch.nn as nn\n",
    "\n",
    "import pandas as pd\n",
    "import numpy as np\n",
    "import matplotlib.pyplot as plt"
   ]
  },
  {
   "cell_type": "code",
   "execution_count": 34,
   "metadata": {},
   "outputs": [
    {
     "data": {
      "text/plain": [
       "tensor([[ 7.0000,  0.2700,  0.3600,  ...,  0.4500,  8.8000,  6.0000],\n",
       "        [ 6.3000,  0.3000,  0.3400,  ...,  0.4900,  9.5000,  6.0000],\n",
       "        [ 8.1000,  0.2800,  0.4000,  ...,  0.4400, 10.1000,  6.0000],\n",
       "        ...,\n",
       "        [ 6.5000,  0.2400,  0.1900,  ...,  0.4600,  9.4000,  6.0000],\n",
       "        [ 5.5000,  0.2900,  0.3000,  ...,  0.3800, 12.8000,  7.0000],\n",
       "        [ 6.0000,  0.2100,  0.3800,  ...,  0.3200, 11.8000,  6.0000]])"
      ]
     },
     "execution_count": 34,
     "metadata": {},
     "output_type": "execute_result"
    }
   ],
   "source": [
    "data = pd.read_csv(\"./winequality-white.csv\", delimiter=\";\")\n",
    "\n",
    "data_t = torch.tensor(data.to_numpy(), dtype=torch.float32)\n",
    "data_t"
   ]
  },
  {
   "cell_type": "code",
   "execution_count": 44,
   "metadata": {},
   "outputs": [],
   "source": [
    "data_input = data_t[:,:-1]\n",
    "data_output = data_t[:, -1].unsqueeze(1)"
   ]
  },
  {
   "cell_type": "code",
   "execution_count": 45,
   "metadata": {},
   "outputs": [],
   "source": [
    "threshold = int(0.8 * data_t.shape[0])\n",
    "data_input_train = data_input[:threshold]\n",
    "data_out_train = data_output[:threshold]\n",
    "\n",
    "data_input_test = data_input[threshold:]\n",
    "data_output_test = data_output[threshold:]"
   ]
  },
  {
   "cell_type": "code",
   "execution_count": 58,
   "metadata": {},
   "outputs": [],
   "source": [
    "model = nn.Sequential(\n",
    "    nn.Linear(11, 100),\n",
    "    nn.Sigmoid(),\n",
    "    nn.Linear(100, 1),\n",
    ")"
   ]
  },
  {
   "cell_type": "code",
   "execution_count": 65,
   "metadata": {},
   "outputs": [],
   "source": [
    "lr = 1e-6\n",
    "\n",
    "optimizer = optim.Adam(model.parameters(), lr)\n",
    "lossFn = nn.MSELoss()"
   ]
  },
  {
   "cell_type": "code",
   "execution_count": 66,
   "metadata": {},
   "outputs": [
    {
     "name": "stdout",
     "output_type": "stream",
     "text": [
      "tensor(0.3593, grad_fn=<MseLossBackward0>)\n",
      "tensor(0.3573, grad_fn=<MseLossBackward0>)\n",
      "tensor(0.3573, grad_fn=<MseLossBackward0>)\n",
      "tensor(0.3573, grad_fn=<MseLossBackward0>)\n",
      "tensor(0.3573, grad_fn=<MseLossBackward0>)\n",
      "tensor(0.3572, grad_fn=<MseLossBackward0>)\n",
      "tensor(0.3572, grad_fn=<MseLossBackward0>)\n",
      "tensor(0.3571, grad_fn=<MseLossBackward0>)\n",
      "tensor(0.3571, grad_fn=<MseLossBackward0>)\n",
      "tensor(0.3570, grad_fn=<MseLossBackward0>)\n"
     ]
    }
   ],
   "source": [
    "epochs = 10000\n",
    "\n",
    "for epoch in range(epochs):\n",
    "    data_out_predicted = model(data_input_train)\n",
    "    loss = lossFn(data_out_predicted, data_out_train)\n",
    "\n",
    "    loss.backward()\n",
    "    optimizer.step()\n",
    "    optimizer.zero_grad()\n",
    "    if not epoch % 1000: print(loss)"
   ]
  },
  {
   "cell_type": "code",
   "execution_count": 87,
   "metadata": {},
   "outputs": [
    {
     "data": {
      "text/plain": [
       "tensor(484)"
      ]
     },
     "execution_count": 87,
     "metadata": {},
     "output_type": "execute_result"
    }
   ],
   "source": [
    "data_out_predicted_test = model(data_input_test).round()\n",
    "loss_test = lossFn(data_out_predicted_test, data_output_test)\n",
    "\n",
    "(data_out_predicted_test == data_output_test).sum()"
   ]
  }
 ],
 "metadata": {
  "kernelspec": {
   "display_name": "Python 3",
   "language": "python",
   "name": "python3"
  },
  "language_info": {
   "codemirror_mode": {
    "name": "ipython",
    "version": 3
   },
   "file_extension": ".py",
   "mimetype": "text/x-python",
   "name": "python",
   "nbconvert_exporter": "python",
   "pygments_lexer": "ipython3",
   "version": "3.12.5"
  }
 },
 "nbformat": 4,
 "nbformat_minor": 2
}
