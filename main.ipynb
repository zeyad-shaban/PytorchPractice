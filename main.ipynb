{
 "cells": [
  {
   "cell_type": "code",
   "execution_count": 1,
   "metadata": {},
   "outputs": [],
   "source": [
    "import torch\n",
    "import torch.nn as nn\n",
    "import torch.optim as optim\n",
    "from torchvision import datasets\n",
    "import torchvision.transforms as transforms\n",
    "import torch.utils.data\n",
    "import datetime\n",
    " \n",
    "import numpy as np\n",
    "import matplotlib.pyplot as plt\n",
    "import pandas as pd\n"
   ]
  },
  {
   "cell_type": "code",
   "execution_count": 37,
   "metadata": {},
   "outputs": [
    {
     "data": {
      "text/plain": [
       "device(type='cpu')"
      ]
     },
     "execution_count": 37,
     "metadata": {},
     "output_type": "execute_result"
    }
   ],
   "source": [
    "device = torch.device('cuda') if torch.cuda.is_available() else torch.device(\"cpu\")\n",
    "\n",
    "device"
   ]
  },
  {
   "cell_type": "code",
   "execution_count": 2,
   "metadata": {},
   "outputs": [
    {
     "name": "stdout",
     "output_type": "stream",
     "text": [
      "Files already downloaded and verified\n",
      "Files already downloaded and verified\n"
     ]
    }
   ],
   "source": [
    "train_data = datasets.CIFAR10(\"./data\", train=True, download=True, transform=transforms.ToTensor())\n",
    "test_data = datasets.CIFAR10(\"./data\", train=False, download=True, transform=transforms.ToTensor())"
   ]
  },
  {
   "cell_type": "code",
   "execution_count": 4,
   "metadata": {},
   "outputs": [],
   "source": [
    "stacked = torch.stack([train_data[i][0] for i in range(len(train_data))], dim=-1)\n",
    "test_stacked = torch.stack([test_data[i][0] for i in range(len(test_data))], dim=-1)"
   ]
  },
  {
   "cell_type": "code",
   "execution_count": 5,
   "metadata": {},
   "outputs": [
    {
     "name": "stdout",
     "output_type": "stream",
     "text": [
      "Files already downloaded and verified\n",
      "Files already downloaded and verified\n"
     ]
    }
   ],
   "source": [
    "mean = stacked.view(3, -1).mean(dim=1)\n",
    "std = stacked.view(3, -1).std(dim=1)\n",
    "train_data = datasets.CIFAR10(\"./data\", train=True, download=True, transform=transforms.Compose([\n",
    "    transforms.ToTensor(),\n",
    "    transforms.Normalize(mean, std)\n",
    "]))\n",
    "\n",
    "mean = test_stacked.view(3, -1).mean(dim=1)\n",
    "std = test_stacked.view(3, -1).std(dim=1)\n",
    "test_data = datasets.CIFAR10(\"./data\", train=False, download=True, transform=transforms.Compose([\n",
    "    transforms.ToTensor(),\n",
    "    transforms.Normalize(mean, std)\n",
    "]))"
   ]
  },
  {
   "cell_type": "code",
   "execution_count": 6,
   "metadata": {},
   "outputs": [],
   "source": [
    "cifar2 = [[data[0], 0 if data[1] == 0 else 1] for data in train_data if data[1] in [0, 2]]  # 0 airplane 1 bird\n",
    "test_cifar2 = [[data[0], 0 if data[1] == 0 else 1] for data in test_data if data[1] in [0, 2]]  # 0 airplane 1 bird"
   ]
  },
  {
   "cell_type": "code",
   "execution_count": 7,
   "metadata": {},
   "outputs": [],
   "source": [
    "cifar2_images = torch.zeros([len(cifar2), *cifar2[0][0].shape])\n",
    "cifar2_labels = torch.zeros(len(cifar2))\n",
    "\n",
    "for i in range(len(cifar2)):\n",
    "    cifar2_images[i] = cifar2[i][0]\n",
    "    cifar2_labels[i] = cifar2[i][1]"
   ]
  },
  {
   "cell_type": "code",
   "execution_count": 8,
   "metadata": {},
   "outputs": [
    {
     "name": "stderr",
     "output_type": "stream",
     "text": [
      "Clipping input data to the valid range for imshow with RGB data ([0..1] for floats or [0..255] for integers). Got range [-1.7869658..1.905926].\n"
     ]
    },
    {
     "data": {
      "text/plain": [
       "0"
      ]
     },
     "execution_count": 8,
     "metadata": {},
     "output_type": "execute_result"
    },
    {
     "data": {
      "image/png": "[encoded data removed]",
      "text/plain": [
       "<Figure size 640x480 with 1 Axes>"
      ]
     },
     "metadata": {},
     "output_type": "display_data"
    }
   ],
   "source": [
    "idx = 5\n",
    "plt.imshow(cifar2[idx][0].permute(1, 2, 0))\n",
    "\n",
    "cifar2[idx][1]"
   ]
  },
  {
   "cell_type": "markdown",
   "metadata": {},
   "source": [
    "Start of convolutional network below"
   ]
  },
  {
   "cell_type": "code",
   "execution_count": 9,
   "metadata": {},
   "outputs": [
    {
     "name": "stderr",
     "output_type": "stream",
     "text": [
      "Clipping input data to the valid range for imshow with RGB data ([0..1] for floats or [0..255] for integers). Got range [-1.8622148..2.0301533].\n"
     ]
    },
    {
     "data": {
      "text/plain": [
       "torch.Size([16, 30, 30])"
      ]
     },
     "execution_count": 9,
     "metadata": {},
     "output_type": "execute_result"
    },
    {
     "data": {
      "image/png": "[encoded data removed]",
      "text/plain": [
       "<Figure size 640x480 with 2 Axes>"
      ]
     },
     "metadata": {},
     "output_type": "display_data"
    }
   ],
   "source": [
    "conv = nn.Conv2d(3, 16, kernel_size=3, padding=0)\n",
    "kernel_horiz = torch.tensor([\n",
    "    [1/6, 1/6, 1/6],\n",
    "    [0, 0, 0],\n",
    "    [-1/6, -1/6, -1/6],\n",
    "])\n",
    "kernel_vert = torch.tensor([\n",
    "    [-1/6, 0, 1/6],\n",
    "    [-1/6, 0, 1/6],\n",
    "    [-1/6, 0, 1/6],\n",
    "])\n",
    "kernel_diag = torch.tensor([\n",
    "    [0, 0, -1/6],\n",
    "    [0, 0, 0],\n",
    "    [1/6, 0, 0],\n",
    "])\n",
    "\n",
    "with torch.no_grad():\n",
    "    conv.bias.zero_()\n",
    "    conv.weight[:] = kernel_horiz\n",
    "\n",
    "\n",
    "img = cifar2_images[0]\n",
    "out = conv(img.unsqueeze(0))\n",
    "\n",
    "plt.subplot(1, 2, 1)\n",
    "plt.imshow(img.permute(1, 2, 0))\n",
    "\n",
    "plt.subplot(1, 2, 2)\n",
    "plt.imshow(out[0, 0].detach(), cmap='gray')\n",
    "\n",
    "\n",
    "out[0].shape"
   ]
  },
  {
   "cell_type": "code",
   "execution_count": 10,
   "metadata": {},
   "outputs": [],
   "source": [
    "pool = nn.MaxPool2d(2)\n",
    "pooled_img = pool(img.unsqueeze(0)).shape\n",
    "\n",
    "# pooled_out = conv(pooled_img)\n",
    "\n",
    "# plt.imshow(pooled_img.permute(1,2,0))"
   ]
  },
  {
   "cell_type": "code",
   "execution_count": 26,
   "metadata": {},
   "outputs": [
    {
     "data": {
      "text/plain": [
       "tensor([[0.2266, 0.1787]], grad_fn=<AddmmBackward0>)"
      ]
     },
     "execution_count": 26,
     "metadata": {},
     "output_type": "execute_result"
    }
   ],
   "source": [
    "import torch.nn.functional as F\n",
    "\n",
    "class Net(nn.Module):\n",
    "    def __init__(self):\n",
    "        super(Net, self).__init__()\n",
    "\n",
    "        self.conv_layer = nn.Sequential(\n",
    "            nn.Conv2d(3, 16, kernel_size=3, stride=1, padding=1),\n",
    "            nn.ReLU(),\n",
    "            nn.MaxPool2d(2),\n",
    "\n",
    "            nn.Conv2d(16, 8, kernel_size=3, stride=1, padding=1),\n",
    "            nn.ReLU(),\n",
    "            nn.MaxPool2d(2),\n",
    "        )\n",
    "\n",
    "        self.fc_layer = nn.Sequential(\n",
    "            nn.Linear(8 * 8 * 8, 300),\n",
    "            nn.Tanh(),\n",
    "\n",
    "            nn.Linear(300, 200),\n",
    "            nn.Sigmoid(),\n",
    "\n",
    "            nn.Linear(200, 50),\n",
    "            nn.Tanh(),\n",
    "\n",
    "            nn.Linear(50, 2),\n",
    "        )\n",
    "\n",
    "    def forward(self, x):\n",
    "        out = self.conv_layer(x)\n",
    "\n",
    "        out = out.view(x.shape[0], -1)\n",
    "        out = self.fc_layer(out)\n",
    "\n",
    "        return out\n",
    "\n",
    "\n",
    "model = Net()\n",
    "model(img.unsqueeze(0))\n",
    "# [p for p in model.parameters()]"
   ]
  },
  {
   "cell_type": "code",
   "execution_count": 27,
   "metadata": {},
   "outputs": [
    {
     "name": "stdout",
     "output_type": "stream",
     "text": [
      "2024-09-06 07:38:07.237386, Epoch: 2, Itteration: 200, Loss: 0.4666004478931427\n",
      "2024-09-06 07:38:15.606193, Epoch: 5, Itteration: 400, Loss: 0.36602815985679626\n",
      "2024-09-06 07:38:23.938874, Epoch: 7, Itteration: 600, Loss: 0.41043174266815186\n",
      "2024-09-06 07:38:32.039071, Epoch: 10, Itteration: 800, Loss: 0.3138907253742218\n",
      "2024-09-06 07:38:40.222370, Epoch: 12, Itteration: 1000, Loss: 0.40148863196372986\n",
      "2024-09-06 07:38:48.505544, Epoch: 15, Itteration: 1200, Loss: 0.33039963245391846\n",
      "2024-09-06 07:38:56.572528, Epoch: 17, Itteration: 1400, Loss: 0.23892584443092346\n",
      "2024-09-06 07:39:04.523040, Epoch: 20, Itteration: 1600, Loss: 0.3034014403820038\n",
      "2024-09-06 07:39:12.771996, Epoch: 22, Itteration: 1800, Loss: 0.2888413071632385\n",
      "2024-09-06 07:39:21.271545, Epoch: 25, Itteration: 2000, Loss: 0.1505616456270218\n",
      "2024-09-06 07:39:29.921859, Epoch: 27, Itteration: 2200, Loss: 0.22163571417331696\n",
      "2024-09-06 07:39:38.205413, Epoch: 30, Itteration: 2400, Loss: 0.16115811467170715\n",
      "2024-09-06 07:39:48.434543, Epoch: 32, Itteration: 2600, Loss: 0.17471803724765778\n",
      "2024-09-06 07:39:56.788974, Epoch: 35, Itteration: 2800, Loss: 0.15851137042045593\n",
      "2024-09-06 07:40:04.955886, Epoch: 37, Itteration: 3000, Loss: 0.09313321113586426\n",
      "2024-09-06 07:40:13.172156, Epoch: 40, Itteration: 3200, Loss: 0.12658840417861938\n",
      "2024-09-06 07:40:21.389307, Epoch: 43, Itteration: 3400, Loss: 0.04164121299982071\n",
      "2024-09-06 07:40:30.294041, Epoch: 45, Itteration: 3600, Loss: 0.06352050602436066\n",
      "2024-09-06 07:40:38.388975, Epoch: 48, Itteration: 3800, Loss: 0.006047739181667566\n",
      "2024-09-06 07:40:46.381830, Epoch: 50, Itteration: 4000, Loss: 0.005257970187813044\n",
      "2024-09-06 07:40:54.172377, Epoch: 53, Itteration: 4200, Loss: 0.002935325726866722\n",
      "2024-09-06 07:41:02.319135, Epoch: 55, Itteration: 4400, Loss: 0.004079826641827822\n",
      "2024-09-06 07:41:11.510621, Epoch: 58, Itteration: 4600, Loss: 0.0015738301444798708\n",
      "2024-09-06 07:41:19.800953, Epoch: 60, Itteration: 4800, Loss: 0.008718219585716724\n",
      "2024-09-06 07:41:28.297053, Epoch: 63, Itteration: 5000, Loss: 0.0037106031086295843\n",
      "2024-09-06 07:41:40.104689, Epoch: 65, Itteration: 5200, Loss: 0.010722518898546696\n",
      "2024-09-06 07:41:51.806500, Epoch: 68, Itteration: 5400, Loss: 0.0006701137172058225\n",
      "2024-09-06 07:42:01.330715, Epoch: 70, Itteration: 5600, Loss: 0.0009175198501907289\n",
      "2024-09-06 07:42:09.804244, Epoch: 73, Itteration: 5800, Loss: 0.0007466634851880372\n",
      "2024-09-06 07:42:17.872787, Epoch: 75, Itteration: 6000, Loss: 0.00037083783536218107\n",
      "2024-09-06 07:42:26.263772, Epoch: 78, Itteration: 6200, Loss: 0.00031436022254638374\n",
      "2024-09-06 07:42:35.796454, Epoch: 81, Itteration: 6400, Loss: 0.00041547167347744107\n",
      "2024-09-06 07:42:46.497674, Epoch: 83, Itteration: 6600, Loss: 0.0005071224877610803\n",
      "2024-09-06 07:42:54.689005, Epoch: 86, Itteration: 6800, Loss: 0.0009210732532665133\n",
      "2024-09-06 07:43:02.822916, Epoch: 88, Itteration: 7000, Loss: 0.0001590816827956587\n",
      "2024-09-06 07:43:10.822211, Epoch: 91, Itteration: 7200, Loss: 0.00018635217566043139\n",
      "2024-09-06 07:43:20.073252, Epoch: 93, Itteration: 7400, Loss: 0.0003160448686685413\n",
      "2024-09-06 07:43:33.147441, Epoch: 96, Itteration: 7600, Loss: 0.00019853173580486327\n",
      "2024-09-06 07:43:52.622555, Epoch: 98, Itteration: 7800, Loss: 0.00016276809037663043\n"
     ]
    }
   ],
   "source": [
    "def training_loop(epochs, lr, momentum, lossFn, optimizer, data_loader):\n",
    "    i = 0\n",
    "    for epoch in range(epochs):\n",
    "        for img_batch, label_batch in data_loader:\n",
    "            predicted = model(img_batch)\n",
    "\n",
    "            loss = lossFn(predicted, label_batch)\n",
    "\n",
    "            optimizer.zero_grad()\n",
    "            loss.backward()\n",
    "            optimizer.step()\n",
    "            i += 1\n",
    "\n",
    "            if i % 200 == 0: print(f\"{datetime.datetime.now()}, Epoch: {epoch}, Itteration: {i}, Loss: {loss}\")\n",
    "\n",
    "        \n",
    "epochs = 100\n",
    "lr = 0.1\n",
    "momentum = 0\n",
    "\n",
    "lossFn = nn.CrossEntropyLoss()\n",
    "optimizer = optim.SGD(model.parameters(), lr, momentum)\n",
    "\n",
    "data_loader = torch.utils.data.DataLoader(cifar2, 128)\n",
    "\n",
    "training_loop(epochs, lr, momentum, lossFn, optimizer, data_loader)"
   ]
  },
  {
   "cell_type": "code",
   "execution_count": 28,
   "metadata": {},
   "outputs": [
    {
     "name": "stdout",
     "output_type": "stream",
     "text": [
      "Validation dataset accuracey: 89.05000305175781%\n"
     ]
    }
   ],
   "source": [
    "test_data_loader = torch.utils.data.DataLoader(test_cifar2, 128)\n",
    "\n",
    "correct = 0\n",
    "total = 0\n",
    "with torch.no_grad():\n",
    "    for img_batch, label_batch in test_data_loader:\n",
    "        with torch.no_grad():\n",
    "            predicted = model(img_batch).argmax(dim=1)\n",
    "            correct += (predicted == label_batch).sum()\n",
    "            total += img_batch.shape[0]\n",
    "\n",
    "print(f\"Validation dataset accuracey: {correct / total * 100}%\")"
   ]
  },
  {
   "cell_type": "code",
   "execution_count": 29,
   "metadata": {},
   "outputs": [],
   "source": [
    "torch.save(model.state_dict(), \"./saved/birds_vs_airplanes.pt\")"
   ]
  },
  {
   "cell_type": "code",
   "execution_count": 31,
   "metadata": {},
   "outputs": [
    {
     "data": {
      "text/plain": [
       "<All keys matched successfully>"
      ]
     },
     "execution_count": 31,
     "metadata": {},
     "output_type": "execute_result"
    }
   ],
   "source": [
    "loaded_model = Net()\n",
    "loaded_model.load_state_dict(torch.load(\"./saved/birds_vs_airplanes.pt\", weights_only=True))"
   ]
  },
  {
   "cell_type": "code",
   "execution_count": 35,
   "metadata": {},
   "outputs": [
    {
     "name": "stdout",
     "output_type": "stream",
     "text": [
      "Validation dataset accuracey: 89.05000305175781%\n"
     ]
    }
   ],
   "source": [
    "test_data_loader = torch.utils.data.DataLoader(test_cifar2, 128)\n",
    "\n",
    "correct = 0\n",
    "total = 0\n",
    "with torch.no_grad():\n",
    "    for img_batch, label_batch in test_data_loader:\n",
    "        with torch.no_grad():\n",
    "            predicted = loaded_model(img_batch).argmax(dim=1)\n",
    "            correct += (predicted == label_batch).sum()\n",
    "            total += img_batch.shape[0]\n",
    "\n",
    "print(f\"Validation dataset accuracey: {correct / total * 100}%\")"
   ]
  }
 ],
 "metadata": {
  "kernelspec": {
   "display_name": "Python 3",
   "language": "python",
   "name": "python3"
  },
  "language_info": {
   "codemirror_mode": {
    "name": "ipython",
    "version": 3
   },
   "file_extension": ".py",
   "mimetype": "text/x-python",
   "name": "python",
   "nbconvert_exporter": "python",
   "pygments_lexer": "ipython3",
   "version": "3.12.5"
  }
 },
 "nbformat": 4,
 "nbformat_minor": 2
}
