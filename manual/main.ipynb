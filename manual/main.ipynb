{
 "cells": [
  {
   "cell_type": "code",
   "execution_count": 75,
   "metadata": {},
   "outputs": [],
   "source": [
    "import torch\n",
    "import torch.nn as nn\n",
    "from torchvision import transforms\n",
    "from PIL import Image\n",
    "\n",
    "import numpy as np\n",
    "import matplotlib.pyplot as plt\n",
    "import torch.optim as optim"
   ]
  },
  {
   "cell_type": "code",
   "execution_count": 234,
   "metadata": {},
   "outputs": [
    {
     "data": {
      "text/plain": [
       "torch.Size([4, 4])"
      ]
     },
     "execution_count": 234,
     "metadata": {},
     "output_type": "execute_result"
    }
   ],
   "source": [
    "toTensor = transforms.ToTensor()\n",
    "diag_tensor = toTensor(Image.open('./diag.png'))[-1]\n",
    "horiz_tensor = toTensor(Image.open('./horizontal.png'))[-1]\n",
    "vert_tensor = toTensor(Image.open('./vertical.png'))[-1]\n",
    "vert_tensor.shape"
   ]
  },
  {
   "cell_type": "code",
   "execution_count": 233,
   "metadata": {},
   "outputs": [
    {
     "data": {
      "text/plain": [
       "tensor([[0.3533, 0.3054, 0.3413]], grad_fn=<SoftmaxBackward0>)"
      ]
     },
     "execution_count": 233,
     "metadata": {},
     "output_type": "execute_result"
    }
   ],
   "source": [
    "model = nn.Sequential(\n",
    "    nn.Conv2d(1, 3, kernel_size=3, padding=1),\n",
    "    nn.ReLU(),\n",
    "    nn.MaxPool2d(1), # this is just a placeholder, if a larger image then i would change the size of the kernel to 2 or 3 or more\n",
    "    nn.Flatten(),\n",
    "    nn.Linear(48, 30),\n",
    "    nn.Tanh(),\n",
    "    nn.Linear(30, 10),\n",
    "    nn.Sigmoid(),\n",
    "    nn.Linear(10, 3),\n",
    ")\n",
    "\n",
    "torch.softmax(model(vert_tensor.unsqueeze(0).unsqueeze(0)), dim=1)"
   ]
  },
  {
   "cell_type": "code",
   "execution_count": 229,
   "metadata": {},
   "outputs": [
    {
     "name": "stdout",
     "output_type": "stream",
     "text": [
      "tensor(1.1058, grad_fn=<NllLossBackward0>)\n",
      "tensor(0.5844, grad_fn=<NllLossBackward0>)\n",
      "tensor(0.5540, grad_fn=<NllLossBackward0>)\n",
      "tensor(0.5521, grad_fn=<NllLossBackward0>)\n",
      "tensor(0.5518, grad_fn=<NllLossBackward0>)\n",
      "tensor(0.5517, grad_fn=<NllLossBackward0>)\n",
      "tensor(0.5517, grad_fn=<NllLossBackward0>)\n",
      "tensor(0.5517, grad_fn=<NllLossBackward0>)\n",
      "tensor(0.5517, grad_fn=<NllLossBackward0>)\n",
      "tensor(0.5516, grad_fn=<NllLossBackward0>)\n",
      "tensor(0.5516, grad_fn=<NllLossBackward0>)\n",
      "tensor(0.5516, grad_fn=<NllLossBackward0>)\n",
      "tensor(0.5516, grad_fn=<NllLossBackward0>)\n",
      "tensor(0.5516, grad_fn=<NllLossBackward0>)\n",
      "tensor(0.5516, grad_fn=<NllLossBackward0>)\n",
      "tensor(0.5516, grad_fn=<NllLossBackward0>)\n",
      "tensor(0.5516, grad_fn=<NllLossBackward0>)\n",
      "tensor(0.5516, grad_fn=<NllLossBackward0>)\n",
      "tensor(0.5516, grad_fn=<NllLossBackward0>)\n",
      "tensor(0.5516, grad_fn=<NllLossBackward0>)\n",
      "tensor(0.5516, grad_fn=<NllLossBackward0>)\n",
      "tensor(0.5516, grad_fn=<NllLossBackward0>)\n",
      "tensor(0.5515, grad_fn=<NllLossBackward0>)\n",
      "tensor(0.5515, grad_fn=<NllLossBackward0>)\n",
      "tensor(0.5515, grad_fn=<NllLossBackward0>)\n",
      "tensor(0.5515, grad_fn=<NllLossBackward0>)\n",
      "tensor(0.5515, grad_fn=<NllLossBackward0>)\n",
      "tensor(0.5515, grad_fn=<NllLossBackward0>)\n",
      "tensor(0.5515, grad_fn=<NllLossBackward0>)\n",
      "tensor(0.5515, grad_fn=<NllLossBackward0>)\n",
      "tensor(0.5515, grad_fn=<NllLossBackward0>)\n",
      "tensor(0.5515, grad_fn=<NllLossBackward0>)\n",
      "tensor(0.5515, grad_fn=<NllLossBackward0>)\n",
      "tensor(0.5515, grad_fn=<NllLossBackward0>)\n",
      "tensor(0.5515, grad_fn=<NllLossBackward0>)\n",
      "tensor(0.5515, grad_fn=<NllLossBackward0>)\n",
      "tensor(0.5515, grad_fn=<NllLossBackward0>)\n",
      "tensor(0.5515, grad_fn=<NllLossBackward0>)\n",
      "tensor(0.5515, grad_fn=<NllLossBackward0>)\n",
      "tensor(0.5515, grad_fn=<NllLossBackward0>)\n",
      "tensor(0.5515, grad_fn=<NllLossBackward0>)\n",
      "tensor(0.5515, grad_fn=<NllLossBackward0>)\n",
      "tensor(0.5515, grad_fn=<NllLossBackward0>)\n",
      "tensor(0.5515, grad_fn=<NllLossBackward0>)\n",
      "tensor(0.5515, grad_fn=<NllLossBackward0>)\n",
      "tensor(0.5515, grad_fn=<NllLossBackward0>)\n",
      "tensor(0.5515, grad_fn=<NllLossBackward0>)\n",
      "tensor(0.5515, grad_fn=<NllLossBackward0>)\n",
      "tensor(0.5515, grad_fn=<NllLossBackward0>)\n",
      "tensor(0.5515, grad_fn=<NllLossBackward0>)\n",
      "tensor(0.5515, grad_fn=<NllLossBackward0>)\n",
      "tensor(0.5515, grad_fn=<NllLossBackward0>)\n",
      "tensor(0.5515, grad_fn=<NllLossBackward0>)\n",
      "tensor(0.5515, grad_fn=<NllLossBackward0>)\n",
      "tensor(0.5515, grad_fn=<NllLossBackward0>)\n",
      "tensor(0.5515, grad_fn=<NllLossBackward0>)\n",
      "tensor(0.5515, grad_fn=<NllLossBackward0>)\n",
      "tensor(0.5515, grad_fn=<NllLossBackward0>)\n",
      "tensor(0.5515, grad_fn=<NllLossBackward0>)\n",
      "tensor(0.5515, grad_fn=<NllLossBackward0>)\n",
      "tensor(0.5515, grad_fn=<NllLossBackward0>)\n",
      "tensor(0.5515, grad_fn=<NllLossBackward0>)\n",
      "tensor(0.5515, grad_fn=<NllLossBackward0>)\n",
      "tensor(0.5515, grad_fn=<NllLossBackward0>)\n",
      "tensor(0.5515, grad_fn=<NllLossBackward0>)\n",
      "tensor(0.5515, grad_fn=<NllLossBackward0>)\n",
      "tensor(0.5515, grad_fn=<NllLossBackward0>)\n",
      "tensor(0.5515, grad_fn=<NllLossBackward0>)\n",
      "tensor(0.5515, grad_fn=<NllLossBackward0>)\n",
      "tensor(0.5515, grad_fn=<NllLossBackward0>)\n",
      "tensor(0.5515, grad_fn=<NllLossBackward0>)\n",
      "tensor(0.5515, grad_fn=<NllLossBackward0>)\n",
      "tensor(0.5515, grad_fn=<NllLossBackward0>)\n",
      "tensor(0.5515, grad_fn=<NllLossBackward0>)\n",
      "tensor(0.5515, grad_fn=<NllLossBackward0>)\n",
      "tensor(0.5515, grad_fn=<NllLossBackward0>)\n",
      "tensor(0.5515, grad_fn=<NllLossBackward0>)\n",
      "tensor(0.5515, grad_fn=<NllLossBackward0>)\n",
      "tensor(0.5515, grad_fn=<NllLossBackward0>)\n",
      "tensor(0.5515, grad_fn=<NllLossBackward0>)\n",
      "tensor(0.5515, grad_fn=<NllLossBackward0>)\n",
      "tensor(0.5515, grad_fn=<NllLossBackward0>)\n",
      "tensor(0.5515, grad_fn=<NllLossBackward0>)\n",
      "tensor(0.5515, grad_fn=<NllLossBackward0>)\n",
      "tensor(0.5515, grad_fn=<NllLossBackward0>)\n",
      "tensor(0.5515, grad_fn=<NllLossBackward0>)\n",
      "tensor(0.5515, grad_fn=<NllLossBackward0>)\n",
      "tensor(0.5515, grad_fn=<NllLossBackward0>)\n",
      "tensor(0.5515, grad_fn=<NllLossBackward0>)\n",
      "tensor(0.5515, grad_fn=<NllLossBackward0>)\n",
      "tensor(0.5515, grad_fn=<NllLossBackward0>)\n",
      "tensor(0.5515, grad_fn=<NllLossBackward0>)\n",
      "tensor(0.5515, grad_fn=<NllLossBackward0>)\n",
      "tensor(0.5515, grad_fn=<NllLossBackward0>)\n",
      "tensor(0.5515, grad_fn=<NllLossBackward0>)\n",
      "tensor(0.5515, grad_fn=<NllLossBackward0>)\n",
      "tensor(0.5515, grad_fn=<NllLossBackward0>)\n",
      "tensor(0.5515, grad_fn=<NllLossBackward0>)\n",
      "tensor(0.5515, grad_fn=<NllLossBackward0>)\n",
      "tensor(0.5515, grad_fn=<NllLossBackward0>)\n"
     ]
    }
   ],
   "source": [
    "epochs = 1000\n",
    "lr = 0.1\n",
    "optimizer = optim.Adam(model.parameters(), lr)\n",
    "lossFn = nn.CrossEntropyLoss()\n",
    "\n",
    "data = torch.stack([diag_tensor.unsqueeze(0), horiz_tensor.unsqueeze(0), vert_tensor.unsqueeze(0)])\n",
    "targets = torch.tensor([0, 1, 2])\n",
    "targetsDict = {\n",
    "    0: \"Diagonal\",\n",
    "    1: \"Horizontal\",\n",
    "    2: \"Vertical\"\n",
    "}\n",
    "\n",
    "for epoch in range(epochs):\n",
    "    predicted = model(data).softmax(dim=1)\n",
    "    loss = lossFn(predicted, targets)\n",
    "    optimizer.zero_grad()\n",
    "    loss.backward()\n",
    "    optimizer.step()\n",
    "\n",
    "    if epoch % 10 == 0: print(loss)"
   ]
  },
  {
   "cell_type": "code",
   "execution_count": 230,
   "metadata": {},
   "outputs": [
    {
     "data": {
      "text/plain": [
       "('Diagonal', 'Horizontal', 'Vertical')"
      ]
     },
     "execution_count": 230,
     "metadata": {},
     "output_type": "execute_result"
    }
   ],
   "source": [
    "targetsDict[model(diag_tensor.unsqueeze(0).unsqueeze(0)).argmax().item()], targetsDict[model(horiz_tensor.unsqueeze(0).unsqueeze(0)).argmax().item()], targetsDict[model(vert_tensor.unsqueeze(0).unsqueeze(0)).argmax().item()]"
   ]
  }
 ],
 "metadata": {
  "kernelspec": {
   "display_name": "Python 3",
   "language": "python",
   "name": "python3"
  },
  "language_info": {
   "codemirror_mode": {
    "name": "ipython",
    "version": 3
   },
   "file_extension": ".py",
   "mimetype": "text/x-python",
   "name": "python",
   "nbconvert_exporter": "python",
   "pygments_lexer": "ipython3",
   "version": "3.12.5"
  }
 },
 "nbformat": 4,
 "nbformat_minor": 2
}
